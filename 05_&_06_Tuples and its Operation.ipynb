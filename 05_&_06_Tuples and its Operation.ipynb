{
 "cells": [
  {
   "cell_type": "markdown",
   "id": "f272ca8f-13e1-4b17-bb5d-c8fbc6847568",
   "metadata": {},
   "source": [
    "# Tuples and its operations"
   ]
  },
  {
   "cell_type": "markdown",
   "id": "54f9051a-1f23-43ee-8540-932fb931d67f",
   "metadata": {},
   "source": [
    "#### 05.Program to convert tuples to a string "
   ]
  },
  {
   "cell_type": "code",
   "execution_count": 5,
   "id": "a5af6095-b632-4b5f-962c-20c5e890e986",
   "metadata": {},
   "outputs": [
    {
     "name": "stdout",
     "output_type": "stream",
     "text": [
      "hello\n"
     ]
    }
   ],
   "source": [
    "tup = ('h', 'e', 'l', 'l', 'o')\n",
    "str =  ''.join(tup)\n",
    "print(str)"
   ]
  },
  {
   "cell_type": "markdown",
   "id": "30566ff3-fe0d-4101-8802-eb66444ccdf2",
   "metadata": {},
   "source": [
    "#### 06.Program to Reverse a Tuple"
   ]
  },
  {
   "cell_type": "code",
   "execution_count": 6,
   "id": "f7266714-333c-46fb-8752-741fb547028b",
   "metadata": {},
   "outputs": [],
   "source": [
    "def reverse_tuple(input_tuple):\n",
    "    reversed_tuple = tuple(reversed(input_tuple))\n",
    "    return reversed_tuple"
   ]
  },
  {
   "cell_type": "code",
   "execution_count": 7,
   "id": "894a14c2-cf49-4998-9652-e9aa884d991c",
   "metadata": {},
   "outputs": [
    {
     "name": "stdout",
     "output_type": "stream",
     "text": [
      "Reversed tuple: (5, 4, 3, 2, 1)\n"
     ]
    }
   ],
   "source": [
    "my_tuple = (1, 2, 3, 4, 5)\n",
    "reversed_tuple = reverse_tuple(my_tuple)\n",
    "print(\"Reversed tuple:\", reversed_tuple)"
   ]
  }
 ],
 "metadata": {
  "kernelspec": {
   "display_name": "Python 3 (ipykernel)",
   "language": "python",
   "name": "python3"
  },
  "language_info": {
   "codemirror_mode": {
    "name": "ipython",
    "version": 3
   },
   "file_extension": ".py",
   "mimetype": "text/x-python",
   "name": "python",
   "nbconvert_exporter": "python",
   "pygments_lexer": "ipython3",
   "version": "3.11.4"
  }
 },
 "nbformat": 4,
 "nbformat_minor": 5
}
