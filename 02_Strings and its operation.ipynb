{
 "cells": [
  {
   "cell_type": "markdown",
   "id": "f272ca8f-13e1-4b17-bb5d-c8fbc6847568",
   "metadata": {},
   "source": [
    "# Strings and its Operations"
   ]
  },
  {
   "cell_type": "markdown",
   "id": "54f9051a-1f23-43ee-8540-932fb931d67f",
   "metadata": {},
   "source": [
    "#### 02.Given two strinngs, Print \"yes\" or \"no\" whether the second string can be obtained from the first by deletion of none,one or more chracters."
   ]
  },
  {
   "cell_type": "code",
   "execution_count": 1,
   "id": "a5af6095-b632-4b5f-962c-20c5e890e986",
   "metadata": {},
   "outputs": [],
   "source": [
    "def check(string1, string2):\n",
    "    flag1 = 0\n",
    "    flag2 = 0\n",
    "\n",
    "    while flag1 < len(string1) and flag2 < len(string2):\n",
    "        if string1[flag1] == string2[flag2]:\n",
    "            flag2 += 1\n",
    "        flag1 += 1\n",
    "\n",
    "    return flag2 == len(string2)"
   ]
  },
  {
   "cell_type": "code",
   "execution_count": 4,
   "id": "90d322f8-cb3c-43a1-9fe2-a5357e793b5f",
   "metadata": {},
   "outputs": [],
   "source": [
    "def solution():\n",
    "    string1 = input(\"Enter the first string: \")\n",
    "    string2 = input(\"Enter the second string: \")\n",
    "\n",
    "    if check(string1, string2):\n",
    "        print(\"Yes, the second string can be obtained from the first string.\")\n",
    "    else:\n",
    "        print(\"No, the second string cannot be obtained from the first string.\")"
   ]
  },
  {
   "cell_type": "code",
   "execution_count": 6,
   "id": "cc584a27-ee80-409f-82db-b4b389ba7cba",
   "metadata": {},
   "outputs": [
    {
     "name": "stdin",
     "output_type": "stream",
     "text": [
      "Enter the first string:  jeevabharathi\n",
      "Enter the second string:  bharath\n"
     ]
    },
    {
     "name": "stdout",
     "output_type": "stream",
     "text": [
      "Yes, the second string can be obtained from the first string.\n"
     ]
    }
   ],
   "source": [
    "solution()"
   ]
  },
  {
   "cell_type": "code",
   "execution_count": null,
   "id": "45646572-0a9b-4b2a-b559-5f803a4aa6e0",
   "metadata": {},
   "outputs": [],
   "source": [
    "s"
   ]
  }
 ],
 "metadata": {
  "kernelspec": {
   "display_name": "Python 3 (ipykernel)",
   "language": "python",
   "name": "python3"
  },
  "language_info": {
   "codemirror_mode": {
    "name": "ipython",
    "version": 3
   },
   "file_extension": ".py",
   "mimetype": "text/x-python",
   "name": "python",
   "nbconvert_exporter": "python",
   "pygments_lexer": "ipython3",
   "version": "3.11.4"
  }
 },
 "nbformat": 4,
 "nbformat_minor": 5
}
