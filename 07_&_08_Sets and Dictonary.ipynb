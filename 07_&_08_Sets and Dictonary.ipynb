{
 "cells": [
  {
   "cell_type": "markdown",
   "id": "f272ca8f-13e1-4b17-bb5d-c8fbc6847568",
   "metadata": {},
   "source": [
    "# Sets and its operations"
   ]
  },
  {
   "cell_type": "markdown",
   "id": "54f9051a-1f23-43ee-8540-932fb931d67f",
   "metadata": {},
   "source": [
    "#### 07.Program to check if a set is a subset of another set"
   ]
  },
  {
   "cell_type": "code",
   "execution_count": 1,
   "id": "a5af6095-b632-4b5f-962c-20c5e890e986",
   "metadata": {},
   "outputs": [],
   "source": [
    "def check_subset(set1, set2):\n",
    "    return set1.issubset(set2)"
   ]
  },
  {
   "cell_type": "code",
   "execution_count": 2,
   "id": "e18e90c9-49bf-4462-a549-95270cfd8da5",
   "metadata": {},
   "outputs": [
    {
     "name": "stdout",
     "output_type": "stream",
     "text": [
      "Is set1 a subset of set2? True\n"
     ]
    }
   ],
   "source": [
    "set1 = {1, 2, 3}\n",
    "set2 = {1, 2, 3, 4, 5}\n",
    "is_subset = check_subset(set1, set2)\n",
    "print(\"Is set1 a subset of set2?\", is_subset)"
   ]
  },
  {
   "cell_type": "markdown",
   "id": "30566ff3-fe0d-4101-8802-eb66444ccdf2",
   "metadata": {},
   "source": [
    "# Dictionaries and its operations"
   ]
  },
  {
   "cell_type": "markdown",
   "id": "4700ab15-09d7-49e0-a79b-2d322e93d086",
   "metadata": {},
   "source": [
    "#### 08.Program to iterate over dictionaries using for loops "
   ]
  },
  {
   "cell_type": "code",
   "execution_count": 3,
   "id": "f7266714-333c-46fb-8752-741fb547028b",
   "metadata": {},
   "outputs": [],
   "source": [
    "def iterate_dictionary(dictionary):\n",
    "    for key in dictionary:\n",
    "        value = dictionary[key]\n",
    "        print(f\"Key: {key}, Value: {value}\")"
   ]
  },
  {
   "cell_type": "code",
   "execution_count": 4,
   "id": "894a14c2-cf49-4998-9652-e9aa884d991c",
   "metadata": {},
   "outputs": [
    {
     "name": "stdout",
     "output_type": "stream",
     "text": [
      "Key: name, Value: John\n",
      "Key: age, Value: 30\n",
      "Key: city, Value: New York\n"
     ]
    }
   ],
   "source": [
    "my_dictionary = {\"name\": \"John\", \"age\": 30, \"city\": \"New York\"}\n",
    "iterate_dictionary(my_dictionary)"
   ]
  },
  {
   "cell_type": "code",
   "execution_count": null,
   "id": "664f9199-ca10-42b4-9f0e-2bed8e356ba1",
   "metadata": {},
   "outputs": [],
   "source": []
  }
 ],
 "metadata": {
  "kernelspec": {
   "display_name": "Python 3 (ipykernel)",
   "language": "python",
   "name": "python3"
  },
  "language_info": {
   "codemirror_mode": {
    "name": "ipython",
    "version": 3
   },
   "file_extension": ".py",
   "mimetype": "text/x-python",
   "name": "python",
   "nbconvert_exporter": "python",
   "pygments_lexer": "ipython3",
   "version": "3.11.4"
  }
 },
 "nbformat": 4,
 "nbformat_minor": 5
}
