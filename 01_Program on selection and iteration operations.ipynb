{
 "cells": [
  {
   "cell_type": "markdown",
   "id": "f272ca8f-13e1-4b17-bb5d-c8fbc6847568",
   "metadata": {},
   "source": [
    "# Programs on Selection and Iteration Operations"
   ]
  },
  {
   "cell_type": "markdown",
   "id": "54f9051a-1f23-43ee-8540-932fb931d67f",
   "metadata": {},
   "source": [
    "#### 01. Get an integer from a user. if the number is odd, then find the factorial of a number and find the number of digits in that factorial. if the number is even, then check the given number is palindrome or not"
   ]
  },
  {
   "cell_type": "code",
   "execution_count": 1,
   "id": "a5af6095-b632-4b5f-962c-20c5e890e986",
   "metadata": {},
   "outputs": [],
   "source": [
    "def factorial(n):\n",
    "    if n == 0 or n == 1:\n",
    "        return 1\n",
    "    else:\n",
    "        return n * factorial(n - 1)"
   ]
  },
  {
   "cell_type": "code",
   "execution_count": 2,
   "id": "7b982ae6-5f99-4771-a999-5f75715f398b",
   "metadata": {},
   "outputs": [],
   "source": [
    "def is_palindrome(n):\n",
    "    return str(n) == str(n)[::-1]"
   ]
  },
  {
   "cell_type": "code",
   "execution_count": 3,
   "id": "271345ed-4b42-4e16-82b9-17d5b01d293c",
   "metadata": {},
   "outputs": [],
   "source": [
    "def get_factorial_digits(num):\n",
    "    fact = factorial(num)\n",
    "    fact_digits = len(str(fact))\n",
    "    return fact_digits"
   ]
  },
  {
   "cell_type": "code",
   "execution_count": 8,
   "id": "f2c782ec-5feb-4485-9d41-c64cdbe91bd5",
   "metadata": {},
   "outputs": [
    {
     "name": "stdin",
     "output_type": "stream",
     "text": [
      "Enter an integer:  69\n"
     ]
    },
    {
     "name": "stdout",
     "output_type": "stream",
     "text": [
      "The factorial of 69 is: 171122452428141311372468338881272839092270544893520369393648040923257279754140647424000000000000000\n",
      "The number of digits in the factorial of 69 is: 99\n"
     ]
    }
   ],
   "source": [
    "def check_number():\n",
    "    num = int(input(\"Enter an integer: \"))\n",
    "\n",
    "    if num % 2 == 1:\n",
    "        fact = factorial(num)\n",
    "        fact_digits = get_factorial_digits(num)\n",
    "        print(\"The factorial of\", num, \"is:\", fact)\n",
    "        print(\"The number of digits in the factorial of\", num, \"is:\", fact_digits)\n",
    "    else:\n",
    "        if is_palindrome(num):\n",
    "            print(\"The number\", num, \"is a palindrome.\")\n",
    "        else:\n",
    "            print(\"The number\", num, \"is not a palindrome.\")\n",
    "\n",
    "check_number()"
   ]
  },
  {
   "cell_type": "code",
   "execution_count": null,
   "id": "1f351dde-8a2b-4b6a-9246-695473785366",
   "metadata": {},
   "outputs": [],
   "source": []
  }
 ],
 "metadata": {
  "kernelspec": {
   "display_name": "Python 3 (ipykernel)",
   "language": "python",
   "name": "python3"
  },
  "language_info": {
   "codemirror_mode": {
    "name": "ipython",
    "version": 3
   },
   "file_extension": ".py",
   "mimetype": "text/x-python",
   "name": "python",
   "nbconvert_exporter": "python",
   "pygments_lexer": "ipython3",
   "version": "3.11.4"
  }
 },
 "nbformat": 4,
 "nbformat_minor": 5
}
