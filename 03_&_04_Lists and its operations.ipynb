{
 "cells": [
  {
   "cell_type": "markdown",
   "id": "f272ca8f-13e1-4b17-bb5d-c8fbc6847568",
   "metadata": {},
   "source": [
    "# Lists and its operations"
   ]
  },
  {
   "cell_type": "markdown",
   "id": "54f9051a-1f23-43ee-8540-932fb931d67f",
   "metadata": {},
   "source": [
    "#### 03.Program for positive and negative indexing"
   ]
  },
  {
   "cell_type": "code",
   "execution_count": 2,
   "id": "a5af6095-b632-4b5f-962c-20c5e890e986",
   "metadata": {},
   "outputs": [],
   "source": [
    "def solution():\n",
    "    print(\"List - Positive and Negative Indexing\")\n",
    "    n=int(input(\"Enter number of elements in list:\\n \"))\n",
    "    l=list()\n",
    "    for i in range(0,n):\n",
    "        e=input(\"enter the value:\\n\")\n",
    "        l.append(e)\n",
    "  \n",
    "    print (\"Original list : \" + str(l))\n",
    "    k=input(\"Enter the element to be searched in the list :\")\n",
    "    res=len(l)-l.index(k)\n",
    "    print(\"The required Negative index : -\",str(res))\n",
    "    print(\"The required Positive index : \",l.index(k))"
   ]
  },
  {
   "cell_type": "code",
   "execution_count": 5,
   "id": "90d322f8-cb3c-43a1-9fe2-a5357e793b5f",
   "metadata": {},
   "outputs": [
    {
     "name": "stdout",
     "output_type": "stream",
     "text": [
      "List - Positive and Negative Indexing\n"
     ]
    },
    {
     "name": "stdin",
     "output_type": "stream",
     "text": [
      "Enter number of elements in list:\n",
      "  7\n",
      "enter the value:\n",
      " 4\n",
      "enter the value:\n",
      " 6\n",
      "enter the value:\n",
      " 9\n",
      "enter the value:\n",
      " 8\n",
      "enter the value:\n",
      " 2\n",
      "enter the value:\n",
      " 3\n",
      "enter the value:\n",
      " 1\n"
     ]
    },
    {
     "name": "stdout",
     "output_type": "stream",
     "text": [
      "Original list : ['4', '6', '9', '8', '2', '3', '1']\n"
     ]
    },
    {
     "name": "stdin",
     "output_type": "stream",
     "text": [
      "Enter the element to be searched in the list : 8\n"
     ]
    },
    {
     "name": "stdout",
     "output_type": "stream",
     "text": [
      "The required Negative index : - 4\n",
      "The required Positive index :  3\n"
     ]
    }
   ],
   "source": [
    "solution()"
   ]
  },
  {
   "cell_type": "markdown",
   "id": "30566ff3-fe0d-4101-8802-eb66444ccdf2",
   "metadata": {},
   "source": [
    "#### 04.Program to check whether the given list is Ascending or Not"
   ]
  },
  {
   "cell_type": "code",
   "execution_count": 6,
   "id": "f7266714-333c-46fb-8752-741fb547028b",
   "metadata": {},
   "outputs": [
    {
     "name": "stdin",
     "output_type": "stream",
     "text": [
      "Enter a list of numbers (separated by spaces):  1 2 3 4 5 6 7 8 9\n"
     ]
    },
    {
     "name": "stdout",
     "output_type": "stream",
     "text": [
      "The list is in ascending order.\n"
     ]
    }
   ],
   "source": [
    "def check_ascending_order():\n",
    "    user_list = input(\"Enter a list of numbers (separated by spaces): \").split()\n",
    "    try:\n",
    "        user_list = [float(num) for num in user_list]\n",
    "        if sorted(user_list) == user_list:\n",
    "            print(\"The list is in ascending order.\")\n",
    "        else:\n",
    "            print(\"The list is not in ascending order.\")\n",
    "    except ValueError:\n",
    "        print(\"Invalid input. Please enter a list of numbers.\")\n",
    "\n",
    "check_ascending_order()\n"
   ]
  },
  {
   "cell_type": "code",
   "execution_count": null,
   "id": "894a14c2-cf49-4998-9652-e9aa884d991c",
   "metadata": {},
   "outputs": [],
   "source": []
  }
 ],
 "metadata": {
  "kernelspec": {
   "display_name": "Python 3 (ipykernel)",
   "language": "python",
   "name": "python3"
  },
  "language_info": {
   "codemirror_mode": {
    "name": "ipython",
    "version": 3
   },
   "file_extension": ".py",
   "mimetype": "text/x-python",
   "name": "python",
   "nbconvert_exporter": "python",
   "pygments_lexer": "ipython3",
   "version": "3.11.4"
  }
 },
 "nbformat": 4,
 "nbformat_minor": 5
}
