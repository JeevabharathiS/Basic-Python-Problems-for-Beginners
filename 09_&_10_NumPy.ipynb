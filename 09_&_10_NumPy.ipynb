{
 "cells": [
  {
   "cell_type": "markdown",
   "id": "1073150d-1c79-4f29-8204-7057e7099061",
   "metadata": {},
   "source": [
    "# Computations Using NumPy Functions"
   ]
  },
  {
   "cell_type": "markdown",
   "id": "65f01301-3e6e-489a-bfb4-7dc3b85a0c5a",
   "metadata": {},
   "source": [
    "#### 09. NumPy program to convert a list of numeric value into a one dimenional NumPy array"
   ]
  },
  {
   "cell_type": "code",
   "execution_count": 1,
   "id": "9b6be625-5e30-4367-a24d-6ca84670a1ba",
   "metadata": {},
   "outputs": [],
   "source": [
    "import numpy as np\n",
    "\n",
    "def list_to_numpy_array(input_list):\n",
    "    return np.array(input_list)"
   ]
  },
  {
   "cell_type": "code",
   "execution_count": 2,
   "id": "aed8ded6-f3c1-45b9-a137-93056b114ea8",
   "metadata": {},
   "outputs": [
    {
     "name": "stdout",
     "output_type": "stream",
     "text": [
      "[1 2 3 4 5]\n"
     ]
    }
   ],
   "source": [
    "numeric_list = [1, 2, 3, 4, 5]\n",
    "numpy_array = list_to_numpy_array(numeric_list)\n",
    "print(numpy_array)"
   ]
  },
  {
   "cell_type": "markdown",
   "id": "c499b37c-8fb0-4713-beae-35965dae248b",
   "metadata": {},
   "source": [
    "#### 10. NumPy program to convert  a list and tuple into NumPy array"
   ]
  },
  {
   "cell_type": "code",
   "execution_count": 3,
   "id": "51834446-00d9-499f-a042-bae36662626f",
   "metadata": {},
   "outputs": [],
   "source": [
    "def to_numpy_array(input_data):\n",
    "    return np.array(input_data)"
   ]
  },
  {
   "cell_type": "code",
   "execution_count": 4,
   "id": "d3d8d091-b599-40b4-a5fc-38e664ca752d",
   "metadata": {},
   "outputs": [
    {
     "name": "stdout",
     "output_type": "stream",
     "text": [
      "List to NumPy Array: [1 2 3 4 5]\n",
      "Tuple to NumPy Array: [ 6  7  8  9 10]\n"
     ]
    }
   ],
   "source": [
    "numeric_list = [1, 2, 3, 4, 5]\n",
    "numeric_tuple = (6, 7, 8, 9, 10)\n",
    "\n",
    "numpy_array_list = to_numpy_array(numeric_list)\n",
    "numpy_array_tuple = to_numpy_array(numeric_tuple)\n",
    "\n",
    "print(\"List to NumPy Array:\", numpy_array_list)\n",
    "print(\"Tuple to NumPy Array:\", numpy_array_tuple)"
   ]
  },
  {
   "cell_type": "code",
   "execution_count": null,
   "id": "422c7fc6-81d5-4314-bca9-37232484090e",
   "metadata": {},
   "outputs": [],
   "source": []
  }
 ],
 "metadata": {
  "kernelspec": {
   "display_name": "Python 3 (ipykernel)",
   "language": "python",
   "name": "python3"
  },
  "language_info": {
   "codemirror_mode": {
    "name": "ipython",
    "version": 3
   },
   "file_extension": ".py",
   "mimetype": "text/x-python",
   "name": "python",
   "nbconvert_exporter": "python",
   "pygments_lexer": "ipython3",
   "version": "3.11.4"
  }
 },
 "nbformat": 4,
 "nbformat_minor": 5
}
